{
 "cells": [
  {
   "cell_type": "code",
   "execution_count": 1,
   "metadata": {},
   "outputs": [],
   "source": [
    "from duckduckgo_search import DDGS\n",
    "from json import dumps,loads"
   ]
  },
  {
   "cell_type": "code",
   "execution_count": 2,
   "metadata": {},
   "outputs": [
    {
     "data": {
      "text/plain": [
       "[{'title': 'What happened at the Trump rally? A look at the assassination attempt ...',\n",
       "  'href': 'https://www.cnn.com/2024/07/14/politics/what-happened-trump-assassination-attempt/index.html',\n",
       "  'body': 'Republican presidential candidate former President Donald Trump is covered by U.S. Secret Service agents at a campaign rally on July 13, 2024, in Butler, Pennsylvania.'},\n",
       " {'title': 'A suspicious person was reported an hour before assassination attempt ...',\n",
       "  'href': 'https://www.nbcnews.com/news/us-news/live-blog/trump-assassination-attempt-live-updates-secret-service-security-opera-rcna162284',\n",
       "  'body': 'In the weeks leading up to the assassination attempt against Donald Trump at a rally in Pennsylvania Saturday, there was already increased Secret Service security around the former president after ...'}]"
      ]
     },
     "execution_count": 2,
     "metadata": {},
     "output_type": "execute_result"
    }
   ],
   "source": [
    "ddgs=DDGS()\n",
    "query='Donald Trump assassination attempt'\n",
    "results=ddgs.text(query,max_results=2)\n",
    "results"
   ]
  },
  {
   "cell_type": "code",
   "execution_count": 3,
   "metadata": {},
   "outputs": [
    {
     "data": {
      "text/plain": [
       "[{'title': 'What happened at the Trump rally? A look at the assassination attempt ...',\n",
       "  'href': 'https://www.cnn.com/2024/07/14/politics/what-happened-trump-assassination-attempt/index.html',\n",
       "  'body': 'Republican presidential candidate former President Donald Trump is covered by U.S. Secret Service agents at a campaign rally on July 13, 2024, in Butler, Pennsylvania.'},\n",
       " {'title': 'A suspicious person was reported an hour before assassination attempt ...',\n",
       "  'href': 'https://www.nbcnews.com/news/us-news/live-blog/trump-assassination-attempt-live-updates-secret-service-security-opera-rcna162284',\n",
       "  'body': 'In the weeks leading up to the assassination attempt against Donald Trump at a rally in Pennsylvania Saturday, there was already increased Secret Service security around the former president after ...'}]"
      ]
     },
     "execution_count": 3,
     "metadata": {},
     "output_type": "execute_result"
    }
   ],
   "source": [
    "loads(dumps(results))"
   ]
  },
  {
   "cell_type": "code",
   "execution_count": 4,
   "metadata": {},
   "outputs": [
    {
     "data": {
      "text/plain": [
       "{'Question': \"Can you tell me about? Tesla's latest news updates?\",\n",
       " 'Thought': 'The user is asking for the latest news updates about Tesla.',\n",
       " 'Action': {'Action Name': 'Search Tool',\n",
       "  'Action Input': {'query': 'Tesla latest news updates'}},\n",
       " 'Observation': [{'title': 'Tesla starts pushing new Supervised Full Self-Driving update',\n",
       "   'href': 'https://electrek.co/2024/07/10/tesla-v12-4-pushing-new-supervised-full-self-driving-update/',\n",
       "   'body': \"Tesla has started to finally push a new Supervised Full Self-Driving (FSD) software update after a few months of delays. Elon Musk has bet Tesla's house on self-driving and now the company needs ...\"},\n",
       "  {'title': 'Latest Tesla News - TESLARATI',\n",
       "   'href': 'https://www.teslarati.com/latest-tesla-news/',\n",
       "   'body': 'Get the latest Tesla News: breaking news and insight on the Model 3, Model X, Model S, the Gigafactory, Tesla Energy, and more. We even cover SpaceX!'}]}"
      ]
     },
     "execution_count": 4,
     "metadata": {},
     "output_type": "execute_result"
    }
   ],
   "source": [
    "txt='{\\n    \"Question\": \"Can you tell me about? Tesla\\'s latest news updates?\",\\n    \"Thought\": \"The user is asking for the latest news updates about Tesla.\",\\n    \"Action\": {\\n        \"Action Name\": \"Search Tool\",\\n        \"Action Input\": {\"query\": \"Tesla latest news updates\"}\\n    },\\n    \"Observation\": [{\"title\": \"Tesla starts pushing new Supervised Full Self-Driving update\", \"href\": \"https://electrek.co/2024/07/10/tesla-v12-4-pushing-new-supervised-full-self-driving-update/\", \"body\": \"Tesla has started to finally push a new Supervised Full Self-Driving (FSD) software update after a few months of delays. Elon Musk has bet Tesla\\'s house on self-driving and now the company needs ...\"}, {\"title\": \"Latest Tesla News - TESLARATI\", \"href\": \"https://www.teslarati.com/latest-tesla-news/\", \"body\": \"Get the latest Tesla News: breaking news and insight on the Model 3, Model X, Model S, the Gigafactory, Tesla Energy, and more. We even cover SpaceX!\"}]}'\n",
    "loads(txt)"
   ]
  }
 ],
 "metadata": {
  "kernelspec": {
   "display_name": "Python 3",
   "language": "python",
   "name": "python3"
  },
  "language_info": {
   "codemirror_mode": {
    "name": "ipython",
    "version": 3
   },
   "file_extension": ".py",
   "mimetype": "text/x-python",
   "name": "python",
   "nbconvert_exporter": "python",
   "pygments_lexer": "ipython3",
   "version": "3.12.4"
  }
 },
 "nbformat": 4,
 "nbformat_minor": 2
}
